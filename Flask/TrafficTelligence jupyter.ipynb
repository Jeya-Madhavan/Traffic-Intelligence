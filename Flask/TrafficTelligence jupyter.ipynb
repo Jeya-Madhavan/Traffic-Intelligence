{
 "cells": [
  {
   "cell_type": "code",
<<<<<<< HEAD
   "execution_count": 8,
=======
   "execution_count": 6,
>>>>>>> 2594fa2558a524fc70eeba69a2fa85101b07aba8
   "id": "e3dff7d1-67be-43c6-a749-f945cd299abb",
   "metadata": {},
   "outputs": [
    {
     "data": {
      "text/plain": [
       "weather\n",
       "Clouds          15144\n",
       "Clear           13383\n",
       "Mist             5942\n",
       "Rain             5665\n",
       "Snow             2875\n",
       "Drizzle          1818\n",
       "Haze             1359\n",
       "Thunderstorm     1033\n",
       "Fog               912\n",
       "Smoke              20\n",
       "Squall              4\n",
       "Name: count, dtype: int64"
      ]
     },
<<<<<<< HEAD
     "execution_count": 8,
=======
     "execution_count": 6,
>>>>>>> 2594fa2558a524fc70eeba69a2fa85101b07aba8
     "metadata": {},
     "output_type": "execute_result"
    }
   ],
   "source": [
    "import pandas as pd\n",
    "import numpy as np\n",
    "import seaborn as sns\n",
    "import sklearn as sk\n",
    "from sklearn import linear_model\n",
    "from sklearn import tree\n",
    "from sklearn import ensemble\n",
    "from sklearn import svm\n",
    "#import xgboost\n",
    "import matplotlib.pyplot as plt\n",
    "from sklearn.preprocessing import scale\n",
    "from sklearn.model_selection import train_test_split\n",
    "data = pd.read_csv(r\"C:\\Users\\rish2\\OneDrive\\Desktop\\ml project\\traffic volume.csv\")\n",
    "data['weather'].value_counts()"
   ]
  },
  {
   "cell_type": "code",
<<<<<<< HEAD
   "execution_count": 9,
=======
   "execution_count": 7,
>>>>>>> 2594fa2558a524fc70eeba69a2fa85101b07aba8
   "id": "c582d82e-6c74-4e80-9a97-dd46583f17a5",
   "metadata": {},
   "outputs": [
    {
     "data": {
      "text/plain": [
       "holiday           48143\n",
       "temp                 53\n",
       "rain                  2\n",
       "snow                 12\n",
       "weather              49\n",
       "date                  0\n",
       "Time                  0\n",
       "traffic_volume        0\n",
       "dtype: int64"
      ]
     },
<<<<<<< HEAD
     "execution_count": 9,
=======
     "execution_count": 7,
>>>>>>> 2594fa2558a524fc70eeba69a2fa85101b07aba8
     "metadata": {},
     "output_type": "execute_result"
    }
   ],
   "source": [
    "data.isnull().sum()"
   ]
  },
  {
   "cell_type": "code",
<<<<<<< HEAD
   "execution_count": 10,
=======
   "execution_count": 8,
>>>>>>> 2594fa2558a524fc70eeba69a2fa85101b07aba8
   "id": "60f91e74-ce5d-40d1-b54e-ea9ba9d04cf8",
   "metadata": {},
   "outputs": [
    {
     "name": "stderr",
     "output_type": "stream",
     "text": [
<<<<<<< HEAD
      "C:\\Users\\rish2\\AppData\\Local\\Temp\\ipykernel_17752\\3631793157.py:15: FutureWarning: A value is trying to be set on a copy of a DataFrame or Series through chained assignment using an inplace method.\n",
=======
      "C:\\Users\\rish2\\AppData\\Local\\Temp\\ipykernel_20336\\3631793157.py:15: FutureWarning: A value is trying to be set on a copy of a DataFrame or Series through chained assignment using an inplace method.\n",
>>>>>>> 2594fa2558a524fc70eeba69a2fa85101b07aba8
      "The behavior will change in pandas 3.0. This inplace method will never work because the intermediate object on which we are setting values always behaves as a copy.\n",
      "\n",
      "For example, when doing 'df[col].method(value, inplace=True)', try using 'df.method({col: value}, inplace=True)' or df[col] = df[col].method(value) instead, to perform the operation inplace on the original object.\n",
      "\n",
      "\n",
      "  data['weather'].fillna('Clouds',inplace=True)\n"
     ]
    }
   ],
   "source": [
    "# see the contents of the data\n",
    "# print(data.info())\n",
    "# print(data.columns)\n",
    "\n",
    "# handling the missing values in the numeric\n",
    "# columns of data (i.e temp,rain and snow)\n",
    "\n",
    "# checking for missing data\n",
    "# data.isnull().sum()\n",
    "\n",
    "#fill the missing cells with the mean of the whole column\n",
    "data['temp']=data['temp'].fillna(data['temp'].mean())\n",
    "data['rain']=data['rain'].fillna(data['rain'].mean())\n",
    "data['snow']=data['snow'].fillna(data['snow'].mean())\n",
    "data['weather'].fillna('Clouds',inplace=True)\n",
    "data.drop(columns=['holiday'], inplace=True)  # Modifies the original DataFrame\n"
   ]
  },
  {
   "cell_type": "code",
<<<<<<< HEAD
   "execution_count": 11,
=======
   "execution_count": 9,
>>>>>>> 2594fa2558a524fc70eeba69a2fa85101b07aba8
   "id": "7952eca9-1145-4482-9456-415da4441ddb",
   "metadata": {},
   "outputs": [
    {
     "name": "stdout",
     "output_type": "stream",
     "text": [
      "     temp  rain  snow weather  traffic_volume day month  year hours minutes  \\\n",
      "0  288.28   0.0   0.0  Clouds            5545  02    10  2012    09      00   \n",
      "1  289.36   0.0   0.0  Clouds            4516  02    10  2012    10      00   \n",
      "2  289.58   0.0   0.0  Clouds            4767  02    10  2012    11      00   \n",
      "3  290.13   0.0   0.0  Clouds            5026  02    10  2012    12      00   \n",
      "4  291.14   0.0   0.0  Clouds            4918  02    10  2012    13      00   \n",
      "\n",
      "  seconds  \n",
      "0      00  \n",
      "1      00  \n",
      "2      00  \n",
      "3      00  \n",
      "4      00  \n"
     ]
    }
   ],
   "source": [
    "#visualizing the data\n",
    "# sns.pairplot(data)\n",
    "# plt.show()\n",
    "data[[\"day\",\"month\",\"year\"]] = data[\"date\"].str.split(\"-\", expand=True)\n",
    "data[[\"hours\",\"minutes\",\"seconds\"]] = data[\"Time\"].str.split(\":\", expand=True)\n",
    "data.drop(columns=['date','Time'],axis=1,inplace=True)\n",
    "print(data.head())\n",
    "# print(data.columns)"
   ]
  },
  {
   "cell_type": "code",
<<<<<<< HEAD
   "execution_count": 12,
=======
   "execution_count": 10,
>>>>>>> 2594fa2558a524fc70eeba69a2fa85101b07aba8
   "id": "dca7eb44-a329-4f1b-8f00-231d0647f5bb",
   "metadata": {},
   "outputs": [],
   "source": [
    "from sklearn.preprocessing import LabelEncoder\n",
    "\n",
    "# Assuming your data is in a DataFrame called 'data'\n",
    "# Assuming the weather column is named 'weather'\n",
    "\n",
    "# Create a LabelEncoder object\n",
    "le = LabelEncoder()\n",
    "\n",
    "# Fit the LabelEncoder to the weather data (learn the categories)\n",
    "le.fit(data['weather'])\n",
    "\n",
    "# Transform the 'weather' column to numerical labels\n",
    "data['weather'] = le.transform(data['weather'])\n",
    "\n",
    "# Now you can use 'data[\"weather_numerical\"]' for further processing\n"
   ]
  },
  {
   "cell_type": "code",
   "execution_count": 11,
   "id": "baa2deca-bec9-439a-97b0-6d8c141cc09a",
   "metadata": {},
   "outputs": [],
   "source": [
    "#data.sample(5)"
   ]
  },
  {
   "cell_type": "code",
<<<<<<< HEAD
   "execution_count": 13,
=======
   "execution_count": 12,
>>>>>>> 2594fa2558a524fc70eeba69a2fa85101b07aba8
   "id": "f4c093a2-c134-448e-bf29-e0dc4c12035d",
   "metadata": {},
   "outputs": [
    {
     "name": "stdout",
     "output_type": "stream",
     "text": [
      "     temp  rain  snow  weather day month  year hours minutes seconds\n",
      "0  288.28   0.0   0.0        1  02    10  2012    09      00      00\n",
      "1  289.36   0.0   0.0        1  02    10  2012    10      00      00\n",
      "2  289.58   0.0   0.0        1  02    10  2012    11      00      00\n",
      "3  290.13   0.0   0.0        1  02    10  2012    12      00      00\n",
      "4  291.14   0.0   0.0        1  02    10  2012    13      00      00\n"
     ]
    }
   ],
   "source": [
    "#splitting into independant and dependant variables\n",
    "y=data['traffic_volume']\n",
    "x=data.drop(columns=['traffic_volume'],axis=1)\n",
    "print(x.head())\n",
    "\n",
    "#splitting the data into train data and test data\n",
    "x_train,x_test,y_train,y_test = train_test_split(x,y,test_size=0.2,random_state=42)\n",
    "lin_reg = linear_model. LinearRegression()\n",
    "Dtree = tree. DecisionTreeRegressor()\n",
    "Rand = ensemble. RandomForestRegressor()\n",
    "svr = svm. SVR( )\n",
    "#XGB = xgboost . XGBRegressor ()\n"
   ]
  },
  {
   "cell_type": "code",
<<<<<<< HEAD
   "execution_count": 14,
=======
   "execution_count": 13,
>>>>>>> 2594fa2558a524fc70eeba69a2fa85101b07aba8
   "id": "6e5feb07-a835-4054-b058-3d4fd9181516",
   "metadata": {},
   "outputs": [
    {
     "name": "stdout",
     "output_type": "stream",
     "text": [
      "(38563, 10)\n",
      "(9641, 10)\n",
      "(38563,)\n",
      "(9641,)\n"
     ]
    }
   ],
   "source": [
    "print(x_train.shape)\n",
    "print(x_test.shape)\n",
    "print(y_train.shape)\n",
    "print(y_test.shape)"
   ]
  },
  {
   "cell_type": "code",
<<<<<<< HEAD
   "execution_count": 15,
=======
   "execution_count": 14,
>>>>>>> 2594fa2558a524fc70eeba69a2fa85101b07aba8
   "id": "5184d747-6c11-4f88-a75b-adc3e84a3c1e",
   "metadata": {},
   "outputs": [],
   "source": [
    "lin_reg.fit(x_train,y_train)\n",
    "Dtree.fit(x_train,y_train)\n",
    "Rand.fit(x_train,y_train)\n",
    "svr.fit(x_train,y_train)\n",
    "#XGB.fit(x_train,y_train)\n",
    "p1 = lin_reg.predict(x_train)\n",
    "p2 = Dtree.predict(x_train)\n",
    "p3 = Rand.predict(x_train)\n",
    "p4 = svr.predict(x_train)\n",
    "#p5 = XGB.predict(x_train)"
   ]
  },
  {
   "cell_type": "code",
<<<<<<< HEAD
   "execution_count": 16,
   "id": "0016776b-9a5d-4a28-836c-846466b43b34",
   "metadata": {},
   "outputs": [
    {
     "name": "stdout",
     "output_type": "stream",
     "text": [
      "-5.56529905070228\n",
      "1.0\n",
      "0.9757931852011742\n",
      "-15568217.700777085\n"
     ]
    }
   ],
=======
   "execution_count": null,
   "id": "0016776b-9a5d-4a28-836c-846466b43b34",
   "metadata": {},
   "outputs": [],
>>>>>>> 2594fa2558a524fc70eeba69a2fa85101b07aba8
   "source": [
    "from sklearn import metrics\n",
    "print(metrics.r2_score(p1,y_train))\n",
    "print(metrics. r2_score(p2,y_train))\n",
    "print(metrics.r2_score(p3,y_train))\n",
    "print(metrics. r2_score(p4,y_train))\n",
    "#print(metrics. r2_score(p5, y_train))\n"
   ]
  },
  {
   "cell_type": "code",
   "execution_count": 100,
   "id": "d5eeb485-22a3-44a6-a914-3a3ec95d5bcc",
   "metadata": {},
   "outputs": [
    {
     "name": "stdout",
     "output_type": "stream",
     "text": [
      "-5.027810168663397\n",
      "0.6989377737043672\n",
      "0.8034466197691496\n",
      "-17984967.579040613\n"
     ]
    }
   ],
   "source": [
    "p1 = lin_reg.predict(x_test)\n",
    "p2 = Dtree.predict(x_test)\n",
    "p3 = Rand.predict(x_test)\n",
    "p4 = svr.predict(x_test)\n",
    "print(metrics. r2_score(p1,y_test))\n",
    "print(metrics. r2_score(p2,y_test))\n",
    "print(metrics. r2_score(p3,y_test))\n",
    "print(metrics.r2_score(p4,y_test))\n",
    "#print(metrics. r2_score(p5,y_test))"
   ]
  },
  {
   "cell_type": "code",
<<<<<<< HEAD
   "execution_count": 17,
   "id": "0ae52dc2-e278-4430-b508-81ff3e481d0b",
   "metadata": {},
   "outputs": [],
=======
   "execution_count": 1,
   "id": "0ae52dc2-e278-4430-b508-81ff3e481d0b",
   "metadata": {},
   "outputs": [
    {
     "ename": "NameError",
     "evalue": "name 'Rand' is not defined",
     "output_type": "error",
     "traceback": [
      "\u001b[1;31m---------------------------------------------------------------------------\u001b[0m",
      "\u001b[1;31mNameError\u001b[0m                                 Traceback (most recent call last)",
      "Cell \u001b[1;32mIn[1], line 2\u001b[0m\n\u001b[0;32m      1\u001b[0m \u001b[38;5;28;01mimport\u001b[39;00m \u001b[38;5;21;01mpickle\u001b[39;00m\n\u001b[1;32m----> 2\u001b[0m pickle\u001b[38;5;241m.\u001b[39m dump(\u001b[43mRand\u001b[49m, \u001b[38;5;28mopen\u001b[39m(\u001b[38;5;124m\"\u001b[39m\u001b[38;5;124mmodel.pk1\u001b[39m\u001b[38;5;124m\"\u001b[39m, \u001b[38;5;124m'\u001b[39m\u001b[38;5;124mwb\u001b[39m\u001b[38;5;124m'\u001b[39m))\n\u001b[0;32m      3\u001b[0m pickle\u001b[38;5;241m.\u001b[39mdump(le, \u001b[38;5;28mopen\u001b[39m(\u001b[38;5;124m\"\u001b[39m\u001b[38;5;124mencoder.pk1\u001b[39m\u001b[38;5;124m\"\u001b[39m, \u001b[38;5;124m'\u001b[39m\u001b[38;5;124mwb\u001b[39m\u001b[38;5;124m'\u001b[39m))\n",
      "\u001b[1;31mNameError\u001b[0m: name 'Rand' is not defined"
     ]
    }
   ],
>>>>>>> 2594fa2558a524fc70eeba69a2fa85101b07aba8
   "source": [
    "import pickle\n",
    "pickle. dump(Rand, open(\"model.pk1\", 'wb'))\n",
    "pickle.dump(le, open(\"encoder.pk1\", 'wb'))"
   ]
  },
  {
   "cell_type": "code",
   "execution_count": null,
   "id": "0ca25aaf-3f3d-442b-92ed-983f20762ba9",
   "metadata": {},
   "outputs": [],
   "source": []
  }
 ],
 "metadata": {
  "kernelspec": {
   "display_name": "Python 3 (ipykernel)",
   "language": "python",
   "name": "python3"
  },
  "language_info": {
   "codemirror_mode": {
    "name": "ipython",
    "version": 3
   },
   "file_extension": ".py",
   "mimetype": "text/x-python",
   "name": "python",
   "nbconvert_exporter": "python",
   "pygments_lexer": "ipython3",
   "version": "3.12.4"
  }
 },
 "nbformat": 4,
 "nbformat_minor": 5
}
